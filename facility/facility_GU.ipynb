{
 "cells": [
  {
   "cell_type": "markdown",
   "id": "001c3f08",
   "metadata": {},
   "source": [
    "# 각 구 별 시설 개수 추출"
   ]
  },
  {
   "cell_type": "code",
   "execution_count": 2,
   "id": "bf3e347e",
   "metadata": {},
   "outputs": [
    {
     "name": "stdout",
     "output_type": "stream",
     "text": [
      "엑셀 파일로 저장 완료: facility_count.xlsx\n"
     ]
    }
   ],
   "source": [
    "import pandas as pd\n",
    "\n",
    "file_path = \"pet_facilities_data_clean.csv\"\n",
    "df = pd.read_csv(file_path)\n",
    "\n",
    "pivot_table = df.pivot_table(\n",
    "    index='GU',\n",
    "    columns='FCLTY_INFO_DC',\n",
    "    aggfunc='size',\n",
    "    fill_value=0\n",
    ")\n",
    "\n",
    "output_file = \"facility_count.xlsx\"\n",
    "pivot_table.to_excel(output_file)\n",
    "\n",
    "print(f\"엑셀 파일로 저장 완료: {output_file}\")"
   ]
  },
  {
   "cell_type": "code",
   "execution_count": 2,
   "id": "4da94490-aa53-4541-8194-91c918e70437",
   "metadata": {},
   "outputs": [
    {
     "name": "stdout",
     "output_type": "stream",
     "text": [
      "'hang_bub_2025.csv'로 저장되었습니다.\n"
     ]
    }
   ],
   "source": [
    "import pandas as pd\n",
    "# 엑셀 파일 불러오기\n",
    "excel_path = \"hang_bub_20250513.xlsx\"\n",
    "df = pd.read_excel(excel_path)\n",
    "\n",
    "# CSV로 저장\n",
    "csv_path = \"hang_bub_2025.csv\"\n",
    "df.to_csv(csv_path, index=False)\n",
    "\n",
    "print(f\"'{csv_path}'로 저장되었습니다.\")\n"
   ]
  },
  {
   "cell_type": "code",
   "execution_count": null,
   "id": "9c4b4cd1-f433-4dce-a68b-4ddd73ddfdb6",
   "metadata": {},
   "outputs": [],
   "source": []
  }
 ],
 "metadata": {
  "kernelspec": {
   "display_name": "Python 3 (ipykernel)",
   "language": "python",
   "name": "python3"
  },
  "language_info": {
   "codemirror_mode": {
    "name": "ipython",
    "version": 3
   },
   "file_extension": ".py",
   "mimetype": "text/x-python",
   "name": "python",
   "nbconvert_exporter": "python",
   "pygments_lexer": "ipython3",
   "version": "3.12.2"
  }
 },
 "nbformat": 4,
 "nbformat_minor": 5
}
