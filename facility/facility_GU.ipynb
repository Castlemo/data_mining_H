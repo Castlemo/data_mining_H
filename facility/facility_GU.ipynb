{
 "cells": [
  {
   "cell_type": "markdown",
   "id": "001c3f08",
   "metadata": {},
   "source": [
    "# 각 구 별 시설 개수 추출"
   ]
  },
  {
   "cell_type": "code",
   "execution_count": 2,
   "id": "bf3e347e",
   "metadata": {},
   "outputs": [
    {
     "name": "stdout",
     "output_type": "stream",
     "text": [
      "엑셀 파일로 저장 완료: facility_count.xlsx\n"
     ]
    }
   ],
   "source": [
    "import pandas as pd\n",
    "\n",
    "file_path = \"pet_facilities_data_clean.csv\"\n",
    "df = pd.read_csv(file_path)\n",
    "\n",
    "pivot_table = df.pivot_table(\n",
    "    index='GU',\n",
    "    columns='FCLTY_INFO_DC',\n",
    "    aggfunc='size',\n",
    "    fill_value=0\n",
    ")\n",
    "\n",
    "output_file = \"facility_count.xlsx\"\n",
    "pivot_table.to_excel(output_file)\n",
    "\n",
    "print(f\"엑셀 파일로 저장 완료: {output_file}\")"
   ]
  }
 ],
 "metadata": {
  "kernelspec": {
   "display_name": "Python 3",
   "language": "python",
   "name": "python3"
  },
  "language_info": {
   "codemirror_mode": {
    "name": "ipython",
    "version": 3
   },
   "file_extension": ".py",
   "mimetype": "text/x-python",
   "name": "python",
   "nbconvert_exporter": "python",
   "pygments_lexer": "ipython3",
   "version": "3.10.13"
  }
 },
 "nbformat": 4,
 "nbformat_minor": 5
}
