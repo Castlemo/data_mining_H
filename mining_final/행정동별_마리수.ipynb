{
 "cells": [
  {
   "cell_type": "code",
   "execution_count": 3,
   "id": "07ee1d4e-8d37-43e8-8b3f-7f2dd2ff1e1b",
   "metadata": {},
   "outputs": [
    {
     "name": "stdout",
     "output_type": "stream",
     "text": [
      "✅ 'dong_area_면적비율추가.csv' 저장 완료!\n"
     ]
    }
   ],
   "source": [
    "import pandas as pd\n",
    "\n",
    "# 파일 불러오기\n",
    "df = pd.read_csv(\"dong_area.csv\")\n",
    "\n",
    "# 열 이름 정리\n",
    "df = df.rename(columns={'동별(1)': '시', '동별(2)': '구'})\n",
    "\n",
    "# 예외 데이터 제거 (예: '소계' 행)\n",
    "df = df[~df['행정동'].str.contains(\"소계\", na=False)]\n",
    "\n",
    "# ▶ 전처리: '행정동'의 앞부분(예: 전농1동 → 전농) 추출\n",
    "df['행정동그룹'] = df['행정동'].str.extract(r'(^[가-힣]+)')\n",
    "df['마리수'] = ''  # 또는: pd.NA\n",
    "\n",
    "# ▶ 그룹별 총 면적 계산\n",
    "group_total_area = df.groupby('행정동그룹')['면적'].sum().rename('총그룹면적')\n",
    "\n",
    "# ▶ 기존 df와 병합\n",
    "df = df.merge(group_total_area, left_on='행정동그룹', right_index=True)\n",
    "\n",
    "# ▶ 면적 비율 계산\n",
    "df['면적비율(%)'] = round((df['면적'] / df['총그룹면적']) * 100, 2)\n",
    "\n",
    "# ▶ 결과 컬럼 정리\n",
    "df_result = df[['시', '구', '행정동', '면적', '면적비율(%)']]\n",
    "\n",
    "# 저장\n",
    "df_result.to_csv(\"dong_area_면적비율추가.csv\", index=False, encoding='utf-8-sig')\n",
    "print(\"✅ 'dong_area_면적비율추가.csv' 저장 완료!\")\n"
   ]
  },
  {
   "cell_type": "code",
   "execution_count": 6,
   "id": "c30b001a-5fad-4906-8924-34984ca7289f",
   "metadata": {},
   "outputs": [
    {
     "name": "stdout",
     "output_type": "stream",
     "text": [
      "✅ '마리수' 열 추가 완료! 총합: 19937마리 → '서대문구_면적비율_마리수추가.csv' 저장됨\n"
     ]
    },
    {
     "data": {
      "text/plain": [
       "0     1097\n",
       "1     1392\n",
       "2     1188\n",
       "3      915\n",
       "4     1786\n",
       "5     2329\n",
       "6      576\n",
       "7      871\n",
       "8      622\n",
       "9      949\n",
       "10    1266\n",
       "11     520\n",
       "12    2976\n",
       "13    3450\n",
       "Name: 마리수, dtype: int64"
      ]
     },
     "execution_count": 6,
     "metadata": {},
     "output_type": "execute_result"
    }
   ],
   "source": [
    "import pandas as pd\n",
    "\n",
    "# 파일 불러오기\n",
    "df = pd.read_csv(\"dong_area.csv\")\n",
    "\n",
    "# '동별(2)' → '구'로 이름 바꾸기\n",
    "df = df.rename(columns={'동별(2)': '구'})\n",
    "\n",
    "# '소계' 및 NaN 제거\n",
    "df = df[df['행정동'].notna() & ~df['행정동'].str.contains('소계')]\n",
    "\n",
    "# 서대문구만 필터링\n",
    "sdm_df = df[df['구'] == '서대문구'].copy()\n",
    "\n",
    "# 면적 총합\n",
    "total_area = sdm_df['면적'].sum()\n",
    "\n",
    "# 면적 비율 계산\n",
    "sdm_df['면적비율(%)'] = round((sdm_df['면적'] / total_area) * 100, 2)\n",
    "\n",
    "# 결과 확인\n",
    "print(sdm_df[['행정동', '면적', '면적비율(%)']])\n",
    "\n",
    "# 필요 시 저장\n",
    "sdm_df.to_csv(\"서대문구_면적비율.csv\", index=False, encoding='utf-8-sig')\n",
    "print(\"✅ '서대문구_면적비율.csv' 저장 완료!\")\n"
   ]
  },
  {
   "cell_type": "code",
   "execution_count": 7,
   "id": "cc14a6a4-19ba-4e27-8fbc-c28edd7bf0f5",
   "metadata": {},
   "outputs": [
    {
     "name": "stdout",
     "output_type": "stream",
     "text": [
      "✅ '마리수' 열 추가 완료! 총합: 19937마리 → '서대문구_면적비율_마리수추가.csv' 저장됨\n"
     ]
    }
   ],
   "source": [
    "import pandas as pd\n",
    "import numpy as np\n",
    "\n",
    "# 파일 불러오기\n",
    "df = pd.read_csv(\"서대문구_면적비율.csv\")\n",
    "\n",
    "# 총 마리 수\n",
    "total_count = 19937\n",
    "\n",
    "# 비율 기준으로 마리수 계산 (소수점 반올림)\n",
    "df['마리수계산'] = (df['면적비율(%)'] * total_count / 100).round()\n",
    "\n",
    "# 보정 전 합계 확인\n",
    "diff = int(total_count - df['마리수계산'].sum())\n",
    "\n",
    "# 보정: 차이가 0이 아닐 경우, 차이만큼 값을 일부 행에 분배\n",
    "if diff != 0:\n",
    "    # 절댓값만큼 상위 n개 행 선택\n",
    "    adjust_indices = df['마리수계산'].sort_values(ascending=(diff < 0)).index[:abs(diff)]\n",
    "    df.loc[adjust_indices, '마리수계산'] += np.sign(diff)\n",
    "\n",
    "# 마리수 열 확정\n",
    "df['마리수'] = df['마리수계산'].astype(int)\n",
    "df.drop(columns=['마리수계산'], inplace=True)\n",
    "\n",
    "# 결과 저장\n",
    "df.to_csv(\"서대문구_면적비율_마리수추가.csv\", index=False, encoding='utf-8-sig')\n",
    "print(f\"✅ '마리수' 열 추가 완료! 총합: {df['마리수'].sum()}마리 → '서대문구_면적비율_마리수추가.csv' 저장됨\")\n"
   ]
  },
  {
   "cell_type": "code",
   "execution_count": null,
   "id": "8b2529ca-925c-40ad-8a80-b861f6aa7d2c",
   "metadata": {},
   "outputs": [],
   "source": []
  }
 ],
 "metadata": {
  "kernelspec": {
   "display_name": "Python 3 (ipykernel)",
   "language": "python",
   "name": "python3"
  },
  "language_info": {
   "codemirror_mode": {
    "name": "ipython",
    "version": 3
   },
   "file_extension": ".py",
   "mimetype": "text/x-python",
   "name": "python",
   "nbconvert_exporter": "python",
   "pygments_lexer": "ipython3",
   "version": "3.12.2"
  }
 },
 "nbformat": 4,
 "nbformat_minor": 5
}
