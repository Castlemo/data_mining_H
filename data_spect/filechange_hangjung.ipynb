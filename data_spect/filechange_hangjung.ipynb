{
 "cells": [
  {
   "cell_type": "code",
   "execution_count": 1,
   "id": "6790b3b1-8e7a-466d-abf4-202da1c3f71f",
   "metadata": {},
   "outputs": [],
   "source": [
    "import pandas as pd\n",
    "\n",
    "# CSV 파일 읽기\n",
    "df = pd.read_csv('final_pet_facilities_data.csv')\n",
    "\n",
    "# Excel 파일로 저장\n",
    "df.to_excel('final_pet_facilities_data.xlsx', index=False)"
   ]
  },
  {
   "cell_type": "code",
   "execution_count": 3,
   "id": "d16c7811-6626-407c-99bc-e01c94de02c9",
   "metadata": {},
   "outputs": [],
   "source": [
    "\n",
    "# CSV 파일 읽기\n",
    "df = pd.read_csv('raw_pet_facilities_data.csv')\n",
    "\n",
    "# Excel 파일로 저장\n",
    "df.to_excel('raw_pet_facilities_data.xlsx', index=False)"
   ]
  },
  {
   "cell_type": "code",
   "execution_count": 6,
   "id": "74a49ac6-ca7b-4c6c-b524-69f67830ab79",
   "metadata": {},
   "outputs": [],
   "source": [
    "df2 = pd.read_csv('raw_pet_facilities_data.csv')\n",
    "split_cols = df2['RDNMADR_NM'].str.split(' ', n=3, expand=True)\n",
    "split_cols.columns = ['시도', '시군구', '읍면동', '지번']\n",
    "\n",
    "\n",
    "# 엑셀 파일로 저장\n",
    "result_df.to_excel('도로명_분할_결과.xlsx', index=False)"
   ]
  },
  {
   "cell_type": "code",
   "execution_count": null,
   "id": "dd00d72c-ca40-413c-8c72-0912bffaa96c",
   "metadata": {},
   "outputs": [],
   "source": []
  }
 ],
 "metadata": {
  "kernelspec": {
   "display_name": "Python 3 (ipykernel)",
   "language": "python",
   "name": "python3"
  },
  "language_info": {
   "codemirror_mode": {
    "name": "ipython",
    "version": 3
   },
   "file_extension": ".py",
   "mimetype": "text/x-python",
   "name": "python",
   "nbconvert_exporter": "python",
   "pygments_lexer": "ipython3",
   "version": "3.12.2"
  }
 },
 "nbformat": 4,
 "nbformat_minor": 5
}
